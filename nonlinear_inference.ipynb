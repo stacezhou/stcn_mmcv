{
 "cells": [
  {
   "cell_type": "code",
   "execution_count": 1,
   "metadata": {},
   "outputs": [],
   "source": [
    "import os\n",
    "from os import path\n",
    "import time\n",
    "from argparse import ArgumentParser\n",
    "\n",
    "import torch\n",
    "import torch.nn.functional as F\n",
    "from torch.utils.data import DataLoader\n",
    "import numpy as np\n",
    "from PIL import Image\n",
    "\n",
    "from model.eval_network import STCN\n",
    "from dataset.davis_test_dataset import DAVISTestDataset\n",
    "from util.tensor_util import unpad\n",
    "from inference_core import InferenceCore\n",
    "\n",
    "from progressbar import progressbar\n",
    "from easydict import EasyDict\n",
    "\n",
    "\n",
    "\n",
    "\n",
    "\"\"\"\n",
    "Arguments loading\n",
    "\"\"\"\n",
    "args = EasyDict(dict(\n",
    "    model='saves/stcn.pth',\n",
    "    davis_path='../DAVIS/2017',\n",
    "    top=20,\n",
    "    split='val',\n",
    "    amp=False,\n",
    "    mem_every=5,\n",
    "    include_last=True,\n",
    "))\n",
    "\n",
    "davis_path = args.davis_path\n",
    "# out_path = args.output\n",
    "\n",
    "# Simple setup\n",
    "# os.makedirs(out_path, exist_ok=True)\n",
    "palette = Image.open(path.expanduser(davis_path + '/trainval/Annotations/480p/blackswan/00000.png')).getpalette()\n",
    "\n",
    "torch.autograd.set_grad_enabled(False)\n",
    "\n",
    "# Setup Dataset\n",
    "if args.split == 'val':\n",
    "    test_dataset = DAVISTestDataset(davis_path+'/trainval', imset='2017/val.txt')\n",
    "    test_loader = DataLoader(test_dataset, batch_size=1, shuffle=False, num_workers=4)\n",
    "elif args.split == 'testdev':\n",
    "    test_dataset = DAVISTestDataset(davis_path+'/test-dev', imset='2017/test-dev.txt')\n",
    "    test_loader = DataLoader(test_dataset, batch_size=1, shuffle=False, num_workers=4)\n",
    "else:\n",
    "    raise NotImplementedError\n",
    "\n",
    "# Load our checkpoint\n",
    "top_k = args.top\n",
    "prop_model = STCN().cuda().eval()\n",
    "\n",
    "# Performs input mapping such that stage 0 model can be loaded\n",
    "prop_saved = torch.load(args.model)\n",
    "for k in list(prop_saved.keys()):\n",
    "    if k == 'value_encoder.conv1.weight':\n",
    "        if prop_saved[k].shape[1] == 4:\n",
    "            pads = torch.zeros((64,1,7,7), device=prop_saved[k].device)\n",
    "            prop_saved[k] = torch.cat([prop_saved[k], pads], 1)\n",
    "prop_model.load_state_dict(prop_saved)\n",
    "\n",
    "total_process_time = 0\n",
    "total_frames = 0\n"
   ]
  },
  {
   "cell_type": "code",
   "execution_count": 2,
   "metadata": {},
   "outputs": [],
   "source": [
    "from metrics import db_eval_iou,db_eval_boundary\n",
    "def metric_frames(pred_msks,gt_msks):\n",
    "    assert pred_msks.shape == gt_msks.shape\n",
    "    k = gt_msks.shape[1]\n",
    "    J = [\n",
    "        np.mean([\n",
    "            db_eval_iou(pred_object,gt_object)\n",
    "            for pred_object,gt_object in zip(pred_frame,gt_frame)\n",
    "        ])\n",
    "        for pred_frame,gt_frame in zip(pred_msks,gt_msks)\n",
    "    ]\n",
    "    F = [\n",
    "        np.mean([\n",
    "            db_eval_boundary(pred_object,gt_object)\n",
    "            for pred_object,gt_object in zip(pred_frame,gt_frame)\n",
    "        ])\n",
    "        for pred_frame,gt_frame in zip(pred_msks,gt_msks)\n",
    "    ]\n",
    "    return J,F\n",
    "\n",
    "\n"
   ]
  },
  {
   "cell_type": "code",
   "execution_count": 3,
   "metadata": {},
   "outputs": [],
   "source": [
    "def infer_video(data,index):\n",
    "    with torch.cuda.amp.autocast(enabled=args.amp):\n",
    "\n",
    "        rgb = data['rgb'][:,index].cuda()\n",
    "        msk = data['gt'][0][:,index].cuda()\n",
    "        info = data['info']\n",
    "        name = info['name'][0]\n",
    "        k = len(info['labels'][0])\n",
    "        size = info['size_480p']\n",
    "\n",
    "        torch.cuda.synchronize()\n",
    "\n",
    "        processor = InferenceCore(prop_model, rgb, k, top_k=top_k, \n",
    "                        mem_every=args.mem_every, include_last=args.include_last)\n",
    "        processor.interact(msk[:,0], 0, rgb.shape[1])\n",
    "\n",
    "        # Do unpad -> upsample to original size \n",
    "        out_masks = torch.zeros((processor.t, 1, *size), dtype=torch.uint8, device='cuda')\n",
    "        for ti in range(processor.t):\n",
    "            prob = unpad(processor.prob[:,ti], processor.pad)\n",
    "            prob = F.interpolate(prob, size, mode='bilinear', align_corners=False)\n",
    "            out_masks[ti] = torch.argmax(prob, dim=0)\n",
    "        \n",
    "        out_masks = (out_masks.detach().cpu().numpy()[:,0]).astype(np.uint8)\n",
    "        torch.cuda.synchronize()\n",
    "\n",
    "        # compute metrics\n",
    "        gt_msk = msk.cpu().numpy().squeeze(axis=2).astype(np.uint8)\n",
    "        pred_msk = np.array([out_masks == i for i in range(1,1+k)]).astype(np.uint8)\n",
    "        gt_msk = gt_msk.swapaxes(0,1)\n",
    "        pred_msk = pred_msk.swapaxes(0,1)\n",
    "\n",
    "        del rgb\n",
    "        del msk\n",
    "        del processor\n",
    "        return metric_frames(pred_msk,gt_msk)\n"
   ]
  },
  {
   "cell_type": "code",
   "execution_count": 4,
   "metadata": {},
   "outputs": [],
   "source": [
    "for data in test_loader:\n",
    "    if data['info']['name'][0] == 'breakdance':\n",
    "        break"
   ]
  },
  {
   "cell_type": "code",
   "execution_count": 4,
   "metadata": {},
   "outputs": [],
   "source": [
    "from tqdm import tqdm\n",
    "import pickle"
   ]
  },
  {
   "cell_type": "code",
   "execution_count": 7,
   "metadata": {},
   "outputs": [],
   "source": [
    "# 任意两帧对比\n",
    "def infer_one_frame(data,result):\n",
    "    name = data['info']['name'][0]\n",
    "    frames = data['info']['num_frames'].numpy()[0]\n",
    "    result[name] = np.zeros((2,frames,frames))\n",
    "    for i in tqdm(range(frames)):\n",
    "        for j in range(frames):\n",
    "            index = [i,j]\n",
    "            (_,J),(_,F) = infer_video(data,index)\n",
    "            result[name][0,i,j] = J\n",
    "            result[name][1,i,j] = F"
   ]
  },
  {
   "cell_type": "code",
   "execution_count": 8,
   "metadata": {},
   "outputs": [
    {
     "name": "stderr",
     "output_type": "stream",
     "text": [
      "100%|██████████| 69/69 [22:44<00:00, 19.78s/it]\n",
      "100%|██████████| 50/50 [07:10<00:00,  8.60s/it]\n",
      "100%|██████████| 80/80 [28:01<00:00, 21.02s/it]\n",
      "100%|██████████| 84/84 [20:12<00:00, 14.44s/it]\n",
      "100%|██████████| 90/90 [23:15<00:00, 15.51s/it]\n",
      "100%|██████████| 75/75 [16:11<00:00, 12.95s/it]\n",
      "100%|██████████| 40/40 [04:36<00:00,  6.91s/it]\n",
      " 70%|███████   | 73/104 [22:01<09:21, 18.10s/it]\n"
     ]
    },
    {
     "ename": "KeyboardInterrupt",
     "evalue": "",
     "output_type": "error",
     "traceback": [
      "\u001b[0;31m---------------------------------------------------------------------------\u001b[0m",
      "\u001b[0;31mKeyboardInterrupt\u001b[0m                         Traceback (most recent call last)",
      "\u001b[1;32m/home/zh21/STCN/nonlinear_inference.ipynb Cell 7'\u001b[0m in \u001b[0;36m<cell line: 2>\u001b[0;34m()\u001b[0m\n\u001b[1;32m      <a href='vscode-notebook-cell://ssh-remote%2Bamax_stcn/home/zh21/STCN/nonlinear_inference.ipynb#ch0000006vscode-remote?line=0'>1</a>\u001b[0m result \u001b[39m=\u001b[39m \u001b[39mdict\u001b[39m()\n\u001b[1;32m      <a href='vscode-notebook-cell://ssh-remote%2Bamax_stcn/home/zh21/STCN/nonlinear_inference.ipynb#ch0000006vscode-remote?line=1'>2</a>\u001b[0m \u001b[39mfor\u001b[39;00m data \u001b[39min\u001b[39;00m test_loader:\n\u001b[0;32m----> <a href='vscode-notebook-cell://ssh-remote%2Bamax_stcn/home/zh21/STCN/nonlinear_inference.ipynb#ch0000006vscode-remote?line=2'>3</a>\u001b[0m     infer_one_frame(data,result)\n\u001b[1;32m      <a href='vscode-notebook-cell://ssh-remote%2Bamax_stcn/home/zh21/STCN/nonlinear_inference.ipynb#ch0000006vscode-remote?line=3'>4</a>\u001b[0m \u001b[39mwith\u001b[39;00m \u001b[39mopen\u001b[39m(\u001b[39m'\u001b[39m\u001b[39mall_two.pkl\u001b[39m\u001b[39m'\u001b[39m,\u001b[39m'\u001b[39m\u001b[39mwb\u001b[39m\u001b[39m'\u001b[39m) \u001b[39mas\u001b[39;00m f:\n\u001b[1;32m      <a href='vscode-notebook-cell://ssh-remote%2Bamax_stcn/home/zh21/STCN/nonlinear_inference.ipynb#ch0000006vscode-remote?line=4'>5</a>\u001b[0m     pickle\u001b[39m.\u001b[39mdump(result,f)\n",
      "\u001b[1;32m/home/zh21/STCN/nonlinear_inference.ipynb Cell 6'\u001b[0m in \u001b[0;36minfer_one_frame\u001b[0;34m(data, result)\u001b[0m\n\u001b[1;32m      <a href='vscode-notebook-cell://ssh-remote%2Bamax_stcn/home/zh21/STCN/nonlinear_inference.ipynb#ch0000005vscode-remote?line=6'>7</a>\u001b[0m \u001b[39mfor\u001b[39;00m j \u001b[39min\u001b[39;00m \u001b[39mrange\u001b[39m(frames):\n\u001b[1;32m      <a href='vscode-notebook-cell://ssh-remote%2Bamax_stcn/home/zh21/STCN/nonlinear_inference.ipynb#ch0000005vscode-remote?line=7'>8</a>\u001b[0m     index \u001b[39m=\u001b[39m [i,j]\n\u001b[0;32m----> <a href='vscode-notebook-cell://ssh-remote%2Bamax_stcn/home/zh21/STCN/nonlinear_inference.ipynb#ch0000005vscode-remote?line=8'>9</a>\u001b[0m     (_,J),(_,F) \u001b[39m=\u001b[39m infer_video(data,index)\n\u001b[1;32m     <a href='vscode-notebook-cell://ssh-remote%2Bamax_stcn/home/zh21/STCN/nonlinear_inference.ipynb#ch0000005vscode-remote?line=9'>10</a>\u001b[0m     result[name][\u001b[39m0\u001b[39m,i,j] \u001b[39m=\u001b[39m J\n\u001b[1;32m     <a href='vscode-notebook-cell://ssh-remote%2Bamax_stcn/home/zh21/STCN/nonlinear_inference.ipynb#ch0000005vscode-remote?line=10'>11</a>\u001b[0m     result[name][\u001b[39m1\u001b[39m,i,j] \u001b[39m=\u001b[39m F\n",
      "\u001b[1;32m/home/zh21/STCN/nonlinear_inference.ipynb Cell 3'\u001b[0m in \u001b[0;36minfer_video\u001b[0;34m(data, index)\u001b[0m\n\u001b[1;32m     <a href='vscode-notebook-cell://ssh-remote%2Bamax_stcn/home/zh21/STCN/nonlinear_inference.ipynb#ch0000002vscode-remote?line=20'>21</a>\u001b[0m     prob \u001b[39m=\u001b[39m F\u001b[39m.\u001b[39minterpolate(prob, size, mode\u001b[39m=\u001b[39m\u001b[39m'\u001b[39m\u001b[39mbilinear\u001b[39m\u001b[39m'\u001b[39m, align_corners\u001b[39m=\u001b[39m\u001b[39mFalse\u001b[39;00m)\n\u001b[1;32m     <a href='vscode-notebook-cell://ssh-remote%2Bamax_stcn/home/zh21/STCN/nonlinear_inference.ipynb#ch0000002vscode-remote?line=21'>22</a>\u001b[0m     out_masks[ti] \u001b[39m=\u001b[39m torch\u001b[39m.\u001b[39margmax(prob, dim\u001b[39m=\u001b[39m\u001b[39m0\u001b[39m)\n\u001b[0;32m---> <a href='vscode-notebook-cell://ssh-remote%2Bamax_stcn/home/zh21/STCN/nonlinear_inference.ipynb#ch0000002vscode-remote?line=23'>24</a>\u001b[0m out_masks \u001b[39m=\u001b[39m (out_masks\u001b[39m.\u001b[39;49mdetach()\u001b[39m.\u001b[39;49mcpu()\u001b[39m.\u001b[39mnumpy()[:,\u001b[39m0\u001b[39m])\u001b[39m.\u001b[39mastype(np\u001b[39m.\u001b[39muint8)\n\u001b[1;32m     <a href='vscode-notebook-cell://ssh-remote%2Bamax_stcn/home/zh21/STCN/nonlinear_inference.ipynb#ch0000002vscode-remote?line=24'>25</a>\u001b[0m torch\u001b[39m.\u001b[39mcuda\u001b[39m.\u001b[39msynchronize()\n\u001b[1;32m     <a href='vscode-notebook-cell://ssh-remote%2Bamax_stcn/home/zh21/STCN/nonlinear_inference.ipynb#ch0000002vscode-remote?line=26'>27</a>\u001b[0m \u001b[39m# compute metrics\u001b[39;00m\n",
      "\u001b[0;31mKeyboardInterrupt\u001b[0m: "
     ]
    }
   ],
   "source": [
    "result = dict()\n",
    "for data in test_loader:\n",
    "    infer_one_frame(data,result)\n",
    "with open('all_two.pkl','wb') as f:\n",
    "    pickle.dump(result,f)"
   ]
  },
  {
   "cell_type": "code",
   "execution_count": 10,
   "metadata": {},
   "outputs": [],
   "source": [
    "with open('all_two.pkl','wb') as f:\n",
    "    pickle.dump(result,f)"
   ]
  },
  {
   "cell_type": "code",
   "execution_count": 83,
   "metadata": {},
   "outputs": [],
   "source": [
    "def infer_dataset(data,result):\n",
    "    name = data['info']['name'][0]\n",
    "    result[name] = []\n",
    "    frames = data['info']['num_frames'].numpy()[0]\n",
    "    for start in tqdm(range(frames-1)):\n",
    "        index = [0] + list(range(frames-1,-1,-1))[start:start+20]\n",
    "        result[name].append([index,infer_video(data,index)])\n",
    "    for start in tqdm(range(frames-1)):\n",
    "        index = [0] + list(range(frames))[start:start+20]\n",
    "        result[name].append([index,infer_video(data,index)])\n"
   ]
  },
  {
   "cell_type": "code",
   "execution_count": 84,
   "metadata": {},
   "outputs": [
    {
     "name": "stderr",
     "output_type": "stream",
     "text": [
      "100%|██████████| 83/83 [01:39<00:00,  1.20s/it]\n",
      "100%|██████████| 83/83 [01:42<00:00,  1.23s/it]\n"
     ]
    }
   ],
   "source": [
    "result = dict()\n",
    "infer_dataset(data,result)\n",
    "with open('breakdance_first.pkl','wb') as f:\n",
    "    pickle.dump(result,f)"
   ]
  },
  {
   "cell_type": "code",
   "execution_count": null,
   "metadata": {},
   "outputs": [],
   "source": []
  }
 ],
 "metadata": {
  "interpreter": {
   "hash": "31f2aee4e71d21fbe5cf8b01ff0e069b9275f58929596ceb00d14d90e3e16cd6"
  },
  "kernelspec": {
   "display_name": "Python 3.6.7 64-bit",
   "language": "python",
   "name": "python3"
  },
  "language_info": {
   "codemirror_mode": {
    "name": "ipython",
    "version": 3
   },
   "file_extension": ".py",
   "mimetype": "text/x-python",
   "name": "python",
   "nbconvert_exporter": "python",
   "pygments_lexer": "ipython3",
   "version": "3.8.12"
  },
  "orig_nbformat": 4
 },
 "nbformat": 4,
 "nbformat_minor": 2
}
