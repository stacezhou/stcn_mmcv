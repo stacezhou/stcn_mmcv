{
 "cells": [
  {
   "cell_type": "code",
   "execution_count": 2,
   "metadata": {},
   "outputs": [],
   "source": [
    "img_root = '/data/YouTube/train_480p/JPEGImages'"
   ]
  },
  {
   "cell_type": "code",
   "execution_count": 3,
   "metadata": {},
   "outputs": [
    {
     "name": "stderr",
     "output_type": "stream",
     "text": [
      "/conda/envs/torch180/lib/python3.8/site-packages/tqdm/auto.py:22: TqdmWarning: IProgress not found. Please update jupyter and ipywidgets. See https://ipywidgets.readthedocs.io/en/stable/user_install.html\n",
      "  from .autonotebook import tqdm as notebook_tqdm\n"
     ]
    }
   ],
   "source": [
    "from pathlib import Path \n",
    "import mmcv"
   ]
  },
  {
   "cell_type": "code",
   "execution_count": 4,
   "metadata": {},
   "outputs": [],
   "source": [
    "stcn_meta = Path(img_root) / 'meta_stcn.json'"
   ]
  },
  {
   "cell_type": "code",
   "execution_count": 5,
   "metadata": {},
   "outputs": [
    {
     "data": {
      "text/plain": [
       "True"
      ]
     },
     "execution_count": 5,
     "metadata": {},
     "output_type": "execute_result"
    }
   ],
   "source": [
    "stcn_meta.exists()"
   ]
  },
  {
   "cell_type": "code",
   "execution_count": 6,
   "metadata": {},
   "outputs": [],
   "source": [
    "meta = mmcv.load(stcn_meta)"
   ]
  },
  {
   "cell_type": "code",
   "execution_count": 49,
   "metadata": {},
   "outputs": [],
   "source": [
    "mmcv.dump(meta, stcn_meta)"
   ]
  },
  {
   "cell_type": "code",
   "execution_count": 48,
   "metadata": {},
   "outputs": [
    {
     "data": {
      "text/plain": [
       "{'img_height': 480,\n",
       " 'img_width': 853,\n",
       " 'nums_frame': 36,\n",
       " 'frame_and_mask': [('003234408d/00000.jpg', '003234408d/00000.png'),\n",
       "  ('003234408d/00005.jpg', '003234408d/00005.png'),\n",
       "  ('003234408d/00010.jpg', '003234408d/00010.png'),\n",
       "  ('003234408d/00015.jpg', '003234408d/00015.png'),\n",
       "  ('003234408d/00020.jpg', '003234408d/00020.png'),\n",
       "  ('003234408d/00025.jpg', '003234408d/00025.png'),\n",
       "  ('003234408d/00030.jpg', '003234408d/00030.png'),\n",
       "  ('003234408d/00035.jpg', '003234408d/00035.png'),\n",
       "  ('003234408d/00040.jpg', '003234408d/00040.png'),\n",
       "  ('003234408d/00045.jpg', '003234408d/00045.png'),\n",
       "  ('003234408d/00050.jpg', '003234408d/00050.png'),\n",
       "  ('003234408d/00055.jpg', '003234408d/00055.png'),\n",
       "  ('003234408d/00060.jpg', '003234408d/00060.png'),\n",
       "  ('003234408d/00065.jpg', '003234408d/00065.png'),\n",
       "  ('003234408d/00070.jpg', '003234408d/00070.png'),\n",
       "  ('003234408d/00075.jpg', '003234408d/00075.png'),\n",
       "  ('003234408d/00080.jpg', '003234408d/00080.png'),\n",
       "  ('003234408d/00085.jpg', '003234408d/00085.png'),\n",
       "  ('003234408d/00090.jpg', '003234408d/00090.png'),\n",
       "  ('003234408d/00095.jpg', '003234408d/00095.png'),\n",
       "  ('003234408d/00100.jpg', '003234408d/00100.png'),\n",
       "  ('003234408d/00105.jpg', '003234408d/00105.png'),\n",
       "  ('003234408d/00110.jpg', '003234408d/00110.png'),\n",
       "  ('003234408d/00115.jpg', '003234408d/00115.png'),\n",
       "  ('003234408d/00120.jpg', '003234408d/00120.png'),\n",
       "  ('003234408d/00125.jpg', '003234408d/00125.png'),\n",
       "  ('003234408d/00130.jpg', '003234408d/00130.png'),\n",
       "  ('003234408d/00135.jpg', '003234408d/00135.png'),\n",
       "  ('003234408d/00140.jpg', '003234408d/00140.png'),\n",
       "  ('003234408d/00145.jpg', '003234408d/00145.png'),\n",
       "  ('003234408d/00150.jpg', '003234408d/00150.png'),\n",
       "  ('003234408d/00155.jpg', '003234408d/00155.png'),\n",
       "  ('003234408d/00160.jpg', '003234408d/00160.png'),\n",
       "  ('003234408d/00165.jpg', '003234408d/00165.png'),\n",
       "  ('003234408d/00170.jpg', '003234408d/00170.png'),\n",
       "  ('003234408d/00175.jpg', '003234408d/00175.png')],\n",
       " 'labels': {0, 1, 2, 3, 4, 5},\n",
       " 'nums_obj': 5}"
      ]
     },
     "execution_count": 48,
     "metadata": {},
     "output_type": "execute_result"
    }
   ],
   "source": [
    "meta['003234408d']"
   ]
  },
  {
   "cell_type": "code",
   "execution_count": 23,
   "metadata": {},
   "outputs": [],
   "source": [
    "from PIL import Image\n",
    "import numpy as np"
   ]
  },
  {
   "cell_type": "code",
   "execution_count": 19,
   "metadata": {},
   "outputs": [],
   "source": [
    "mask_path = '/data/YouTube/train_480p/Annotations/003234408d/00050.png'"
   ]
  },
  {
   "cell_type": "code",
   "execution_count": 31,
   "metadata": {},
   "outputs": [],
   "source": [
    "from os import path as osp"
   ]
  },
  {
   "cell_type": "code",
   "execution_count": 38,
   "metadata": {},
   "outputs": [],
   "source": [
    "def simple(mask_path):\n",
    "    return osp.join(*Path(mask_path).parts[-2:])"
   ]
  },
  {
   "cell_type": "code",
   "execution_count": 41,
   "metadata": {},
   "outputs": [],
   "source": [
    "def read_labels(mask_path):\n",
    "    labels = np.unique(Image.open(mask_path).__array__()).tolist()\n",
    "    return set(labels)"
   ]
  },
  {
   "cell_type": "code",
   "execution_count": 39,
   "metadata": {},
   "outputs": [],
   "source": [
    "from tqdm import tqdm"
   ]
  },
  {
   "cell_type": "code",
   "execution_count": 43,
   "metadata": {},
   "outputs": [
    {
     "name": "stderr",
     "output_type": "stream",
     "text": [
      "100%|██████████| 3471/3471 [10:06<00:00,  5.72it/s]  \n"
     ]
    }
   ],
   "source": [
    "for v,item in tqdm(meta.items()):\n",
    "    frames_and_masks = item['frame_and_mask']\n",
    "    label_set = set()\n",
    "    new_f_m = []\n",
    "    for im,mask in frames_and_masks:\n",
    "        label_set = label_set | read_labels(mask)\n",
    "        new_f_m.append((simple(im),simple(mask)))\n",
    "    item['labels'] = label_set\n",
    "    item['frame_and_mask'] = new_f_m\n",
    "\n"
   ]
  },
  {
   "cell_type": "code",
   "execution_count": 47,
   "metadata": {},
   "outputs": [
    {
     "name": "stderr",
     "output_type": "stream",
     "text": [
      "100%|██████████| 3471/3471 [00:00<00:00, 424964.36it/s]\n"
     ]
    }
   ],
   "source": [
    "for v,item in tqdm(meta.items()):\n",
    "    item['nums_obj'] = len(item['labels']) - 1"
   ]
  },
  {
   "cell_type": "code",
   "execution_count": 37,
   "metadata": {},
   "outputs": [
    {
     "data": {
      "text/plain": [
       "{1, 2, 5}"
      ]
     },
     "execution_count": 37,
     "metadata": {},
     "output_type": "execute_result"
    }
   ],
   "source": [
    "set([1,2]) | set([2,5])"
   ]
  },
  {
   "cell_type": "code",
   "execution_count": 8,
   "metadata": {},
   "outputs": [],
   "source": [
    "from collections import Counter"
   ]
  },
  {
   "cell_type": "code",
   "execution_count": 11,
   "metadata": {},
   "outputs": [
    {
     "data": {
      "text/plain": [
       "36"
      ]
     },
     "execution_count": 11,
     "metadata": {},
     "output_type": "execute_result"
    }
   ],
   "source": [
    "max([v['nums_frame'] for k,v in meta.items()])"
   ]
  },
  {
   "cell_type": "code",
   "execution_count": 15,
   "metadata": {},
   "outputs": [
    {
     "data": {
      "text/plain": [
       "Counter({5: 32, 3: 630, 1: 1473, 2: 1208, 4: 124, 6: 4})"
      ]
     },
     "execution_count": 15,
     "metadata": {},
     "output_type": "execute_result"
    }
   ],
   "source": [
    "Counter([v['nums_obj'] for k,v in meta.items()])"
   ]
  },
  {
   "cell_type": "code",
   "execution_count": null,
   "metadata": {},
   "outputs": [],
   "source": []
  }
 ],
 "metadata": {
  "interpreter": {
   "hash": "ea9b3d8e9e8f64478e4937bb15cfc0362d8354fc7a7880d685bb432a38a8ab12"
  },
  "kernelspec": {
   "display_name": "Python 3.8.13 ('torch180')",
   "language": "python",
   "name": "python3"
  },
  "language_info": {
   "codemirror_mode": {
    "name": "ipython",
    "version": 3
   },
   "file_extension": ".py",
   "mimetype": "text/x-python",
   "name": "python",
   "nbconvert_exporter": "python",
   "pygments_lexer": "ipython3",
   "version": "3.8.13"
  },
  "orig_nbformat": 4
 },
 "nbformat": 4,
 "nbformat_minor": 2
}
